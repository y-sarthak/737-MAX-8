{
 "cells": [
  {
   "cell_type": "code",
   "execution_count": 7,
   "metadata": {},
   "outputs": [],
   "source": [
    "import tweepy\n",
    "import webbrowser\n",
    "import pandas as pd\n",
    "import sklearn.datasets as skd\n",
    "import numpy as np\n",
    "from sklearn.feature_extraction.text import TfidfTransformer\n",
    "from sklearn.linear_model import PassiveAggressiveClassifier\n",
    "from nltk.corpus import wordnet\n",
    "from nltk.stem import WordNetLemmatizer\n",
    "from nltk.corpus import stopwords\n",
    "from nltk.tokenize import word_tokenize\n",
    "from sklearn.feature_extraction.text import CountVectorizer\n",
    "from sklearn.model_selection import train_test_split\n",
    "from nltk import pos_tag\n",
    "import string\n",
    "from random import shuffle"
   ]
  },
  {
   "cell_type": "code",
   "execution_count": 8,
   "metadata": {},
   "outputs": [],
   "source": [
    "# for auth\n",
    "consumer_key = \"82sYf9hQSpGNuc9K8wTVGABqz0\"\n",
    "consumer_secret = \"6tf3Iu3eiaLesTA2yxZPD2Ht7cdgJxis4Nk8vxBH0ltAPD3enaNBK\""
   ]
  },
  {
   "cell_type": "code",
   "execution_count": 9,
   "metadata": {},
   "outputs": [],
   "source": [
    "callback_uri = 'oob'"
   ]
  },
  {
   "cell_type": "code",
   "execution_count": 10,
   "metadata": {},
   "outputs": [
    {
     "name": "stdout",
     "output_type": "stream",
     "text": [
      "https://api.twitter.com/oauth/authorize?oauth_token=s1HubvAwABMAAjsyBpATABceMY7y9\n"
     ]
    }
   ],
   "source": [
    "auth = tweepy.OAuthHandler(consumer_key, consumer_secret, callback_uri)\n",
    "redirect_url = auth.get_authorization_url()\n",
    "print(redirect_url)"
   ]
  },
  {
   "cell_type": "code",
   "execution_count": 11,
   "metadata": {},
   "outputs": [
    {
     "name": "stdout",
     "output_type": "stream",
     "text": [
      "True\n"
     ]
    }
   ],
   "source": [
    "webbrowser.open(redirect_url)"
   ]
  },
  {
   "cell_type": "code",
   "execution_count": 12,
   "metadata": {},
   "outputs": [
    {
     "name": "stdout",
     "output_type": "stream",
     "text": [
      "6350069\n"
     ]
    }
   ],
   "source": [
    "user_pint_input = input()"
   ]
  },
  {
   "cell_type": "code",
   "execution_count": 13,
   "metadata": {},
   "outputs": [
    {
     "name": "stdout",
     "output_type": "stream",
     "text": [
      "('4730574793-fa9oFomAHt4K4iw5uaWRaG0iw1OxCUu47ieHm5Q','fOC4HAcXzr35dl8gZdzZdkC0dBr7l26pOvJv56oqF4yTf')\n"
     ]
    }
   ],
   "source": [
    "auth.get_access_token(user_pint_input)"
   ]
  },
  {
   "cell_type": "code",
   "execution_count": 14,
   "metadata": {},
   "outputs": [],
   "source": [
    "api = tweepy.API(auth)"
   ]
  },
  {
   "cell_type": "code",
   "execution_count": 15,
   "metadata": {},
   "outputs": [],
   "source": [
    "# grounding date of Boing 737 MAX-8 Aircraft\n",
    "date_since = \"2019-03-18\"\n",
    "search_words_1 = \"737\" + \" -filter:retweets\"\n",
    "search_words_2 = \"Boeing\" + \" -filter:retweets\"\n",
    "search_words_3 = \"737 MAX-8\" + \" -filter:retweets\""
   ]
  },
  {
   "cell_type": "code",
   "execution_count": 16,
   "metadata": {},
   "outputs": [],
   "source": [
    "tweets_1 = tweepy.Cursor(api.search, q=search_words_1, lang=\"en\", since=date_since).items(1500)\n",
    "tweets_2 = tweepy.Cursor(api.search, q=search_words_1, lang=\"en\", since=date_since).items(1500)\n",
    "tweets_3 = tweepy.Cursor(api.search, q=search_words_1, lang=\"en\", since=date_since).items(1500)"
   ]
  },
  {
   "cell_type": "code",
   "execution_count": 17,
   "metadata": {},
   "outputs": [],
   "source": [
    "users_tweets_info = tweets_1 + tweets_2 + tweets_3"
   ]
  },
  {
   "cell_type": "code",
   "execution_count": 21,
   "metadata": {},
   "outputs": [
    {
     "data": {
      "text/html": [
       "<div>\n",
       "<style scoped>\n",
       "    .dataframe tbody tr th:only-of-type {\n",
       "        vertical-align: middle;\n",
       "    }\n",
       "\n",
       "    .dataframe tbody tr th {\n",
       "        vertical-align: top;\n",
       "    }\n",
       "\n",
       "    .dataframe thead th {\n",
       "        text-align: right;\n",
       "    }\n",
       "</style>\n",
       "<table border=\"1\" class=\"dataframe\">\n",
       "  <thead>\n",
       "    <tr style=\"text-align: right;\">\n",
       "      <th></th>\n",
       "      <th>user</th>\n",
       "      <th>location</th>\n",
       "      <th>text</th>\n",
       "    </tr>\n",
       "  </thead>\n",
       "  <tbody>\n",
       "    <tr>\n",
       "      <th>0</th>\n",
       "      <td>J___D___B</td>\n",
       "      <td>United States</td>\n",
       "      <td>Boeing 737 MAX may not return to service until...</td>\n",
       "    </tr>\n",
       "    <tr>\n",
       "      <th>1</th>\n",
       "      <td>KelliAgodon</td>\n",
       "      <td>S E A T T L E</td>\n",
       "      <td>Boeing 737 max is a true testimony that bad so...</td>\n",
       "    </tr>\n",
       "    <tr>\n",
       "      <th>2</th>\n",
       "      <td>jpmckinnie</td>\n",
       "      <td>Los Angeles, CA</td>\n",
       "      <td>Would you fly the #737 MAX? Here the airline p...</td>\n",
       "    </tr>\n",
       "    <tr>\n",
       "      <th>3</th>\n",
       "      <td>jxnova</td>\n",
       "      <td>Harlem, USA</td>\n",
       "      <td>I’ve been lucky enough to do some cool things ...</td>\n",
       "    </tr>\n",
       "    <tr>\n",
       "      <th>4</th>\n",
       "      <td>momtifa</td>\n",
       "      <td>Portland, Oregon, USA</td>\n",
       "      <td>Portland, Oregon, USA', 'In case people dont k...</td>\n",
       "    </tr>\n",
       "  </tbody>\n",
       "</table>\n",
       "</div>"
      ],
      "text/plain": [
       "          user               location  \\\n",
       "0    J___D___B          United States   \n",
       "1  KelliAgodon          S E A T T L E   \n",
       "2   jpmckinnie        Los Angeles, CA   \n",
       "3       jxnova            Harlem, USA   \n",
       "4      momtifa  Portland, Oregon, USA   \n",
       "\n",
       "                                                text  \n",
       "0  Boeing 737 MAX may not return to service until...  \n",
       "1  Boeing 737 max is a true testimony that bad so...  \n",
       "2  Would you fly the #737 MAX? Here the airline p...  \n",
       "3  I’ve been lucky enough to do some cool things ...  \n",
       "4  Portland, Oregon, USA', 'In case people dont k...  "
      ]
     },
     "execution_count": 21,
     "metadata": {},
     "output_type": "execute_result"
    }
   ],
   "source": [
    "tweets_info = pd.DataFrame(data=users_tweets_info, columns=['user', 'location', 'text'])\n",
    "tweets_info.head()"
   ]
  },
  {
   "cell_type": "code",
   "execution_count": 22,
   "metadata": {},
   "outputs": [],
   "source": [
    "tweets = tweets_info['text']"
   ]
  },
  {
   "cell_type": "code",
   "execution_count": 23,
   "metadata": {},
   "outputs": [],
   "source": [
    "lemmatizer = WordNetLemmatizer()\n",
    "stops = set(stopwords.words('english'))\n",
    "punctuations = list(string.punctuation)\n",
    "stops.update(punctuations)\n",
    "\n",
    "def get_simple_pos(tag):\n",
    "    if tag.startswith('J'):\n",
    "        return wordnet.ADJ\n",
    "    elif tag.startswith('V'):\n",
    "        return wordnet.VERB\n",
    "    elif tag.startswith('N'):\n",
    "        return wordnet.NOUN\n",
    "    elif tag.startswith('R'):\n",
    "        return wordnet.ADV\n",
    "    else:\n",
    "        return wordnet.NOUN\n",
    "\n",
    "def clean_review(words):\n",
    "    output_words = []\n",
    "    for w in words:\n",
    "        if w.lower() not in stops:\n",
    "            pos = pos_tag([w])\n",
    "            clean_word = lemmatizer.lemmatize(w, pos = get_simple_pos(pos[0][1]))\n",
    "            output_words.append(clean_word.lower())\n",
    "    return output_words\n",
    "    \n",
    "def optimized_dataset_str(string, category, arr):\n",
    "    words = clean_review(word_tokenize(string))\n",
    "    arr.append((words, category))\n",
    "    shuffle(arr)\n",
    "    return arr\n",
    "\n",
    "def optimized_dataset_words(words, category, arr):\n",
    "    words = clean_review(words)\n",
    "    arr.append((words, category))\n",
    "    shuffle(arr)\n",
    "    return arr\n",
    "\n",
    "def doc_cate(documents):\n",
    "    text_documents = [\" \".join(document) for document, category in documents]\n",
    "    categories = [category for document, category in documents]\n",
    "    return text_documents, categories\n",
    "\n",
    "def split_train_test(text_documents, categories):\n",
    "    x_train, x_test, y_train, y_test = train_test_split(text_documents, categories)\n",
    "    return x_train, x_test, y_train, y_test"
   ]
  },
  {
   "cell_type": "code",
   "execution_count": 24,
   "metadata": {},
   "outputs": [
    {
     "data": {
      "text/html": [
       "<div>\n",
       "<style scoped>\n",
       "    .dataframe tbody tr th:only-of-type {\n",
       "        vertical-align: middle;\n",
       "    }\n",
       "\n",
       "    .dataframe tbody tr th {\n",
       "        vertical-align: top;\n",
       "    }\n",
       "\n",
       "    .dataframe thead th {\n",
       "        text-align: right;\n",
       "    }\n",
       "</style>\n",
       "<table border=\"1\" class=\"dataframe\">\n",
       "  <thead>\n",
       "    <tr style=\"text-align: right;\">\n",
       "      <th></th>\n",
       "      <th>tweet_id</th>\n",
       "      <th>airline_emg</th>\n",
       "      <th>airline</th>\n",
       "      <th>airline_sentiment_gold</th>\n",
       "      <th>name</th>\n",
       "      <th>negativereason_gold</th>\n",
       "      <th>retweet_count</th>\n",
       "      <th>text</th>\n",
       "      <th>tweet_coord</th>\n",
       "      <th>tweet_created</th>\n",
       "      <th>tweet_location</th>\n",
       "      <th>user_timezone</th>\n",
       "    </tr>\n",
       "  </thead>\n",
       "  <tbody>\n",
       "    <tr>\n",
       "      <th>0</th>\n",
       "      <td>5.679000e+17</td>\n",
       "      <td>negative</td>\n",
       "      <td>Southwest</td>\n",
       "      <td>NaN</td>\n",
       "      <td>ColeyGirouard</td>\n",
       "      <td>NaN</td>\n",
       "      <td>0</td>\n",
       "      <td>@SouthwestAir I am scheduled for the morning, ...</td>\n",
       "      <td>NaN</td>\n",
       "      <td>17-02-2015 20:16</td>\n",
       "      <td>Washington D.C.</td>\n",
       "      <td>Atlantic Time (Canada)</td>\n",
       "    </tr>\n",
       "    <tr>\n",
       "      <th>1</th>\n",
       "      <td>5.699890e+17</td>\n",
       "      <td>positive</td>\n",
       "      <td>Southwest</td>\n",
       "      <td>NaN</td>\n",
       "      <td>WalterFaddoul</td>\n",
       "      <td>NaN</td>\n",
       "      <td>0</td>\n",
       "      <td>@SouthwestAir seeing your workers time in and ...</td>\n",
       "      <td>NaN</td>\n",
       "      <td>23-02-2015 14:36</td>\n",
       "      <td>Indianapolis, Indiana; USA</td>\n",
       "      <td>Central Time (US &amp; Canada)</td>\n",
       "    </tr>\n",
       "    <tr>\n",
       "      <th>2</th>\n",
       "      <td>5.680890e+17</td>\n",
       "      <td>positive</td>\n",
       "      <td>United</td>\n",
       "      <td>NaN</td>\n",
       "      <td>LocalKyle</td>\n",
       "      <td>NaN</td>\n",
       "      <td>0</td>\n",
       "      <td>@united Flew ORD to Miami and back and  had gr...</td>\n",
       "      <td>NaN</td>\n",
       "      <td>18-02-2015 08:46</td>\n",
       "      <td>Illinois</td>\n",
       "      <td>Central Time (US &amp; Canada)</td>\n",
       "    </tr>\n",
       "    <tr>\n",
       "      <th>3</th>\n",
       "      <td>5.689280e+17</td>\n",
       "      <td>negative</td>\n",
       "      <td>Southwest</td>\n",
       "      <td>NaN</td>\n",
       "      <td>amccarthy19</td>\n",
       "      <td>NaN</td>\n",
       "      <td>0</td>\n",
       "      <td>@SouthwestAir @dultch97 that's horse radish 😤🐴</td>\n",
       "      <td>NaN</td>\n",
       "      <td>20-02-2015 16:20</td>\n",
       "      <td>NaN</td>\n",
       "      <td>Atlantic Time (Canada)</td>\n",
       "    </tr>\n",
       "    <tr>\n",
       "      <th>4</th>\n",
       "      <td>5.685940e+17</td>\n",
       "      <td>negative</td>\n",
       "      <td>United</td>\n",
       "      <td>NaN</td>\n",
       "      <td>J_Okayy</td>\n",
       "      <td>NaN</td>\n",
       "      <td>0</td>\n",
       "      <td>@united so our flight into ORD was delayed bec...</td>\n",
       "      <td>NaN</td>\n",
       "      <td>19-02-2015 18:13</td>\n",
       "      <td>NaN</td>\n",
       "      <td>Eastern Time (US &amp; Canada)</td>\n",
       "    </tr>\n",
       "  </tbody>\n",
       "</table>\n",
       "</div>"
      ],
      "text/plain": [
       "       tweet_id airline_emg    airline airline_sentiment_gold           name  \\\n",
       "0  5.679000e+17    negative  Southwest                    NaN  ColeyGirouard   \n",
       "1  5.699890e+17    positive  Southwest                    NaN  WalterFaddoul   \n",
       "2  5.680890e+17    positive     United                    NaN      LocalKyle   \n",
       "3  5.689280e+17    negative  Southwest                    NaN    amccarthy19   \n",
       "4  5.685940e+17    negative     United                    NaN        J_Okayy   \n",
       "\n",
       "  negativereason_gold  retweet_count  \\\n",
       "0                 NaN              0   \n",
       "1                 NaN              0   \n",
       "2                 NaN              0   \n",
       "3                 NaN              0   \n",
       "4                 NaN              0   \n",
       "\n",
       "                                                text tweet_coord  \\\n",
       "0  @SouthwestAir I am scheduled for the morning, ...         NaN   \n",
       "1  @SouthwestAir seeing your workers time in and ...         NaN   \n",
       "2  @united Flew ORD to Miami and back and  had gr...         NaN   \n",
       "3     @SouthwestAir @dultch97 that's horse radish 😤🐴         NaN   \n",
       "4  @united so our flight into ORD was delayed bec...         NaN   \n",
       "\n",
       "      tweet_created              tweet_location               user_timezone  \n",
       "0  17-02-2015 20:16             Washington D.C.      Atlantic Time (Canada)  \n",
       "1  23-02-2015 14:36  Indianapolis, Indiana; USA  Central Time (US & Canada)  \n",
       "2  18-02-2015 08:46                    Illinois  Central Time (US & Canada)  \n",
       "3  20-02-2015 16:20                         NaN      Atlantic Time (Canada)  \n",
       "4  19-02-2015 18:13                         NaN  Eastern Time (US & Canada)  "
      ]
     },
     "execution_count": 24,
     "metadata": {},
     "output_type": "execute_result"
    }
   ],
   "source": [
    "data = pd.read_csv('twitter_train.csv')\n",
    "data.head()"
   ]
  },
  {
   "cell_type": "code",
   "execution_count": 25,
   "metadata": {},
   "outputs": [],
   "source": [
    "text, emg = data['text'], data['airline_emg']\n",
    "text = list(text)\n",
    "emg = list(emg)"
   ]
  },
  {
   "cell_type": "code",
   "execution_count": 27,
   "metadata": {},
   "outputs": [],
   "source": [
    "document = []\n",
    "for i in range(len(text)):\n",
    "    string = text[i]\n",
    "    category = emg[i]\n",
    "    document = optimized_dataset_str(string, category, document)"
   ]
  },
  {
   "cell_type": "code",
   "execution_count": 28,
   "metadata": {},
   "outputs": [],
   "source": [
    "testing_text = list(tweets)\n",
    "\n",
    "testing_document = []\n",
    "for i in range(len(testing_text)):\n",
    "    string = testing_text[i]\n",
    "    testing_document = optimized_dataset_str(string, testing_document)"
   ]
  },
  {
   "cell_type": "code",
   "execution_count": 39,
   "metadata": {},
   "outputs": [],
   "source": [
    "train_text_documents, categories = doc_cate(document)"
   ]
  },
  {
   "cell_type": "code",
   "execution_count": 40,
   "metadata": {},
   "outputs": [],
   "source": [
    "count_vec = CountVectorizer(ngram_range = (1, 2))\n",
    "train = count_vec.fit_transform(train_text_documents)\n",
    "pred = count_vec.transform(testing_text_documents)"
   ]
  },
  {
   "cell_type": "code",
   "execution_count": 41,
   "metadata": {},
   "outputs": [
    {
     "data": {
      "text/plain": [
       "(10980, 79921)"
      ]
     },
     "execution_count": 41,
     "metadata": {},
     "output_type": "execute_result"
    }
   ],
   "source": [
    "den_1 = train.todense()\n",
    "den_2 = pred.todense()\n",
    "den_1.shape"
   ]
  },
  {
   "cell_type": "code",
   "execution_count": 42,
   "metadata": {},
   "outputs": [],
   "source": [
    "tif = TfidfTransformer()\n",
    "train = tif.fit_transform(train)\n",
    "pred = tif.fit_transform(pred)"
   ]
  },
  {
   "cell_type": "code",
   "execution_count": 43,
   "metadata": {},
   "outputs": [
    {
     "data": {
      "text/plain": [
       "PassiveAggressiveClassifier()"
      ]
     },
     "execution_count": 43,
     "metadata": {},
     "output_type": "execute_result"
    }
   ],
   "source": [
    "clf = PassiveAggressiveClassifier()\n",
    "clf.fit(train, categories)\n",
    "y_pred = clf.predict(x_test_tf)"
   ]
  },
  {
   "cell_type": "code",
   "execution_count": 47,
   "metadata": {},
   "outputs": [
    {
     "data": {
      "image/png": "[encoded data removed]",
      "text/plain": [
       "<Figure size 432x288 with 1 Axes>"
      ]
     },
     "metadata": {},
     "output_type": "display_data"
    }
   ],
   "source": [
    "a=0\n",
    "b=0\n",
    "\n",
    "for i in y_pred:\n",
    "    if i == \"negative\":\n",
    "        a+=1\n",
    "    elif i== \"positive\":\n",
    "        b+=1\n",
    "        \n",
    "        \n",
    "import matplotlib.pyplot as plt\n",
    "\n",
    "labels = [\"Negative\",\"Positive\"]\n",
    "colors = [\"gold\", \"lightskyblue\"]\n",
    "explode= [0, 0.2]\n",
    "plt.title(\"People's Perspective of Crash of Boeing 737 MAX-8\")\n",
    "sizes = [b, a]\n",
    "plt.pie(sizes, colors=colors, explode = explode, labels=labels, autopct=\"%.2f%%\",  startangle=100, shadow = True)\n",
    "plt.axis(\"equal\")\n",
    "plt.show()"
   ]
  }
 ],
 "metadata": {
  "kernelspec": {
   "display_name": "Python 3",
   "language": "python",
   "name": "python3"
  },
  "language_info": {
   "codemirror_mode": {
    "name": "ipython",
    "version": 3
   },
   "file_extension": ".py",
   "mimetype": "text/x-python",
   "name": "python",
   "nbconvert_exporter": "python",
   "pygments_lexer": "ipython3",
   "version": "3.8.3"
  }
 },
 "nbformat": 4,
 "nbformat_minor": 4
}
